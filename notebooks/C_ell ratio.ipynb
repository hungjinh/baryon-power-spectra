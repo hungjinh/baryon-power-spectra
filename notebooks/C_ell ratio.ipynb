{
 "cells": [
  {
   "cell_type": "markdown",
   "metadata": {},
   "source": [
    "#### The code for generating Fig. 3 of arXiv: 1809.01146"
   ]
  },
  {
   "cell_type": "code",
   "execution_count": 1,
   "metadata": {},
   "outputs": [
    {
     "name": "stdout",
     "output_type": "stream",
     "text": [
      "Populating the interactive namespace from numpy and matplotlib\n"
     ]
    }
   ],
   "source": [
    "import matplotlib.pyplot as plt\n",
    "from astropy.table import Table\n",
    "import numpy as np\n",
    "\n",
    "from scipy import interpolate\n",
    "%pylab inline\n",
    "%config InlineBackend.figure_format = 'retina'"
   ]
  },
  {
   "cell_type": "code",
   "execution_count": 2,
   "metadata": {},
   "outputs": [],
   "source": [
    "colname_Cij = np.array(['C00', 'C01', 'C02', 'C03', 'C04', 'C05', 'C06', 'C07', 'C08',\n",
    "       'C09', 'C11', 'C12', 'C13', 'C14', 'C15', 'C16', 'C17', 'C18',\n",
    "       'C19', 'C22', 'C23', 'C24', 'C25', 'C26', 'C27', 'C28', 'C29',\n",
    "       'C33', 'C34', 'C35', 'C36', 'C37', 'C38', 'C39', 'C44', 'C45',\n",
    "       'C46', 'C47', 'C48', 'C49', 'C55', 'C56', 'C57', 'C58', 'C59',\n",
    "       'C66', 'C67', 'C68', 'C69', 'C77', 'C78', 'C79', 'C88', 'C89',\n",
    "       'C99'])\n",
    "\n",
    "ell = np.array([  22.83133051,   29.75319931,   38.77359967,   50.52875208,\n",
    "         65.84776262,   85.81110088,  111.82680688,  145.72980195,\n",
    "        189.91130811,  247.48750405,  322.51931319,  420.29882591,\n",
    "        547.72255751,  713.77786828,  930.1768537 , 1212.18241363,\n",
    "       1579.68476432, 2058.60432107, 2682.71989859, 3496.05117438,\n",
    "       4555.96345347])\n",
    "\n",
    "Nell= len(ell)"
   ]
  },
  {
   "cell_type": "code",
   "execution_count": null,
   "metadata": {
    "collapsed": true
   },
   "outputs": [],
   "source": []
  },
  {
   "cell_type": "code",
   "execution_count": 3,
   "metadata": {},
   "outputs": [],
   "source": [
    "def gen_Tb_Cij(simName):\n",
    "    # available simName : \n",
    "    # \"illustris\",\"mb2\",\"eagle\",\"HzAGN\",\"dmo\"\n",
    "    # \"owls_DBLIMFV1618\",\"owls_AGN\",\"owls_NOSN\",\"owls_NOSN_NOZCOOL\",\"owls_NOZCOOL\",\n",
    "    # \"owls_REF\",\"owls_WDENS\",\"owls_WML1V848\",\"owls_WML4\"\n",
    "    \n",
    "    data_dir = \"../C_ell/\"\n",
    "\n",
    "    infile_datav=data_dir+\"LSST_shear_shear_fid_\"+simName+\"_5000\"\n",
    "    Tb_datav = np.genfromtxt(infile_datav,skip_header=0,dtype=\"int,double\",usecols=[0,1],names=[\"ind\",\"Cl\"])\n",
    "    \n",
    "    TbCij=Table()\n",
    "    TbCij[\"ell\"]=ell\n",
    "    \n",
    "    for i in range(len(colname_Cij)):\n",
    "        TbCij[colname_Cij[i]]=Tb_datav[\"Cl\"][Nell*i:Nell*i+Nell]\n",
    "        \n",
    "    return TbCij"
   ]
  },
  {
   "cell_type": "code",
   "execution_count": 4,
   "metadata": {},
   "outputs": [],
   "source": [
    "TbCij_dmo = gen_Tb_Cij(\"dmo\")\n",
    "\n",
    "TbCij_illustris = gen_Tb_Cij(\"illustris\")\n",
    "TbCij_mb2       = gen_Tb_Cij(\"mb2\")\n",
    "TbCij_eagle     = gen_Tb_Cij(\"eagle\")\n",
    "TbCij_HzAGN     = gen_Tb_Cij(\"HzAGN\")\n",
    "\n",
    "TbCij_AGN          = gen_Tb_Cij(\"owls_AGN\")          \n",
    "TbCij_DBLIMFV1618  = gen_Tb_Cij(\"owls_DBLIMFV1618\")   \n",
    "TbCij_NOSN         = gen_Tb_Cij(\"owls_NOSN\")         \n",
    "TbCij_NOSN_NOZCOOL = gen_Tb_Cij(\"owls_NOSN_NOZCOOL\") \n",
    "TbCij_NOZCOOL      = gen_Tb_Cij(\"owls_NOZCOOL\")\n",
    "TbCij_REF          = gen_Tb_Cij(\"owls_REF\")\n",
    "TbCij_WDENS        = gen_Tb_Cij(\"owls_WDENS\")\n",
    "TbCij_WML1V848     = gen_Tb_Cij(\"owls_WML1V848\")\n",
    "TbCij_WML4         = gen_Tb_Cij(\"owls_WML4\")"
   ]
  },
  {
   "cell_type": "code",
   "execution_count": 5,
   "metadata": {},
   "outputs": [
    {
     "data": {
      "text/html": [
       "<div><i>Table length=21</i>\n",
       "<table id=\"table140229478569616\" class=\"table-striped table-bordered table-condensed\">\n",
       "<thead><tr><th>ell</th><th>C00</th><th>C01</th><th>C02</th><th>C03</th><th>C04</th><th>C05</th><th>C06</th><th>C07</th><th>C08</th><th>C09</th><th>C11</th><th>C12</th><th>C13</th><th>C14</th><th>C15</th><th>C16</th><th>C17</th><th>C18</th><th>C19</th><th>C22</th><th>C23</th><th>C24</th><th>C25</th><th>C26</th><th>C27</th><th>C28</th><th>C29</th><th>C33</th><th>C34</th><th>C35</th><th>C36</th><th>C37</th><th>C38</th><th>C39</th><th>C44</th><th>C45</th><th>C46</th><th>C47</th><th>C48</th><th>C49</th><th>C55</th><th>C56</th><th>C57</th><th>C58</th><th>C59</th><th>C66</th><th>C67</th><th>C68</th><th>C69</th><th>C77</th><th>C78</th><th>C79</th><th>C88</th><th>C89</th><th>C99</th></tr></thead>\n",
       "<thead><tr><th>float64</th><th>float64</th><th>float64</th><th>float64</th><th>float64</th><th>float64</th><th>float64</th><th>float64</th><th>float64</th><th>float64</th><th>float64</th><th>float64</th><th>float64</th><th>float64</th><th>float64</th><th>float64</th><th>float64</th><th>float64</th><th>float64</th><th>float64</th><th>float64</th><th>float64</th><th>float64</th><th>float64</th><th>float64</th><th>float64</th><th>float64</th><th>float64</th><th>float64</th><th>float64</th><th>float64</th><th>float64</th><th>float64</th><th>float64</th><th>float64</th><th>float64</th><th>float64</th><th>float64</th><th>float64</th><th>float64</th><th>float64</th><th>float64</th><th>float64</th><th>float64</th><th>float64</th><th>float64</th><th>float64</th><th>float64</th><th>float64</th><th>float64</th><th>float64</th><th>float64</th><th>float64</th><th>float64</th><th>float64</th><th>float64</th></tr></thead>\n",
       "<tr><td>22.83133051</td><td>2.438902e-09</td><td>4.094163e-09</td><td>4.711431e-09</td><td>5.054337e-09</td><td>5.285193e-09</td><td>5.45802e-09</td><td>5.598001e-09</td><td>5.721718e-09</td><td>5.838324e-09</td><td>5.97154e-09</td><td>8.341582e-09</td><td>1.053324e-08</td><td>1.183146e-08</td><td>1.271159e-08</td><td>1.337305e-08</td><td>1.390814e-08</td><td>1.437441e-08</td><td>1.481799e-08</td><td>1.533292e-08</td><td>1.428201e-08</td><td>1.677954e-08</td><td>1.85204e-08</td><td>1.983205e-08</td><td>2.090051e-08</td><td>2.183015e-08</td><td>2.27081e-08</td><td>2.373762e-08</td><td>2.045443e-08</td><td>2.319001e-08</td><td>2.528104e-08</td><td>2.699014e-08</td><td>2.847765e-08</td><td>2.988069e-08</td><td>3.153383e-08</td><td>2.691608e-08</td><td>2.989327e-08</td><td>3.234098e-08</td><td>3.447952e-08</td><td>3.650409e-08</td><td>3.887935e-08</td><td>3.376756e-08</td><td>3.705777e-08</td><td>3.995836e-08</td><td>4.270093e-08</td><td>4.591886e-08</td><td>4.123639e-08</td><td>4.500917e-08</td><td>4.861116e-08</td><td>5.282621e-08</td><td>4.976464e-08</td><td>5.441021e-08</td><td>5.985719e-08</td><td>6.032106e-08</td><td>6.742362e-08</td><td>7.713209e-08</td></tr>\n",
       "<tr><td>29.75319931</td><td>1.806662e-09</td><td>3.084923e-09</td><td>3.568988e-09</td><td>3.83801e-09</td><td>4.018995e-09</td><td>4.154705e-09</td><td>4.26425e-09</td><td>4.361136e-09</td><td>4.452598e-09</td><td>4.557225e-09</td><td>6.438222e-09</td><td>8.208881e-09</td><td>9.266254e-09</td><td>9.984548e-09</td><td>1.052276e-08</td><td>1.095949e-08</td><td>1.133916e-08</td><td>1.170066e-08</td><td>1.212103e-08</td><td>1.130967e-08</td><td>1.341243e-08</td><td>1.488881e-08</td><td>1.600227e-08</td><td>1.690486e-08</td><td>1.769294e-08</td><td>1.843723e-08</td><td>1.931015e-08</td><td>1.658598e-08</td><td>1.898021e-08</td><td>2.081986e-08</td><td>2.231623e-08</td><td>2.362388e-08</td><td>2.485931e-08</td><td>2.630813e-08</td><td>2.23133e-08</td><td>2.500134e-08</td><td>2.722392e-08</td><td>2.915824e-08</td><td>3.09991e-08</td><td>3.314998e-08</td><td>2.85788e-08</td><td>3.163686e-08</td><td>3.432929e-08</td><td>3.688996e-08</td><td>3.98829e-08</td><td>3.559033e-08</td><td>3.918234e-08</td><td>4.262127e-08</td><td>4.662854e-08</td><td>4.379289e-08</td><td>4.831835e-08</td><td>5.362528e-08</td><td>5.418468e-08</td><td>6.12535e-08</td><td>7.11624e-08</td></tr>\n",
       "<tr><td>38.77359967</td><td>1.309545e-09</td><td>2.26994e-09</td><td>2.639827e-09</td><td>2.846103e-09</td><td>2.984473e-09</td><td>3.088291e-09</td><td>3.172255e-09</td><td>3.246638e-09</td><td>3.316809e-09</td><td>3.397357e-09</td><td>4.856236e-09</td><td>6.247414e-09</td><td>7.082865e-09</td><td>7.649862e-09</td><td>8.074946e-09</td><td>8.41968e-09</td><td>8.720073e-09</td><td>9.005676e-09</td><td>9.338314e-09</td><td>8.715724e-09</td><td>1.041118e-08</td><td>1.160504e-08</td><td>1.250485e-08</td><td>1.323718e-08</td><td>1.387664e-08</td><td>1.44786e-08</td><td>1.518613e-08</td><td>1.301126e-08</td><td>1.49931e-08</td><td>1.652636e-08</td><td>1.777438e-08</td><td>1.886124e-08</td><td>1.988977e-08</td><td>2.10935e-08</td><td>1.781626e-08</td><td>2.010994e-08</td><td>2.200837e-08</td><td>2.36679e-08</td><td>2.524426e-08</td><td>2.708492e-08</td><td>2.322537e-08</td><td>2.59047e-08</td><td>2.827564e-08</td><td>3.052482e-08</td><td>3.315812e-08</td><td>2.944331e-08</td><td>3.268758e-08</td><td>3.578117e-08</td><td>3.940136e-08</td><td>3.691685e-08</td><td>4.109706e-08</td><td>4.600102e-08</td><td>4.66337e-08</td><td>5.333487e-08</td><td>6.299614e-08</td></tr>\n",
       "<tr><td>50.52875208</td><td>9.36112e-10</td><td>1.632607e-09</td><td>1.906596e-09</td><td>2.059579e-09</td><td>2.162052e-09</td><td>2.239169e-09</td><td>2.301315e-09</td><td>2.356559e-09</td><td>2.408568e-09</td><td>2.468477e-09</td><td>3.569055e-09</td><td>4.641793e-09</td><td>5.286393e-09</td><td>5.724854e-09</td><td>6.054199e-09</td><td>6.320076e-09</td><td>6.552219e-09</td><td>6.773439e-09</td><td>7.030126e-09</td><td>6.567769e-09</td><td>7.896604e-09</td><td>8.835166e-09</td><td>9.544329e-09</td><td>1.011918e-08</td><td>1.062147e-08</td><td>1.109535e-08</td><td>1.165032e-08</td><td>9.954309e-09</td><td>1.153521e-08</td><td>1.275522e-08</td><td>1.375302e-08</td><td>1.462267e-08</td><td>1.544482e-08</td><td>1.640636e-08</td><td>1.380838e-08</td><td>1.567155e-08</td><td>1.721596e-08</td><td>1.856995e-08</td><td>1.985172e-08</td><td>2.135137e-08</td><td>1.823884e-08</td><td>2.046397e-08</td><td>2.243929e-08</td><td>2.431025e-08</td><td>2.650143e-08</td><td>2.345668e-08</td><td>2.621234e-08</td><td>2.884997e-08</td><td>3.192864e-08</td><td>2.988165e-08</td><td>3.352937e-08</td><td>3.780848e-08</td><td>3.846583e-08</td><td>4.447508e-08</td><td>5.340579e-08</td></tr>\n",
       "<tr><td>65.84776262</td><td>6.694145e-10</td><td>1.1611e-09</td><td>1.356606e-09</td><td>1.465793e-09</td><td>1.539292e-09</td><td>1.594212e-09</td><td>1.638836e-09</td><td>1.67819e-09</td><td>1.714981e-09</td><td>1.75799e-09</td><td>2.55275e-09</td><td>3.350647e-09</td><td>3.833626e-09</td><td>4.162483e-09</td><td>4.409185e-09</td><td>4.608868e-09</td><td>4.782407e-09</td><td>4.948243e-09</td><td>5.14108e-09</td><td>4.818411e-09</td><td>5.841305e-09</td><td>6.566453e-09</td><td>7.111751e-09</td><td>7.554941e-09</td><td>7.942538e-09</td><td>8.308159e-09</td><td>8.736316e-09</td><td>7.441315e-09</td><td>8.673638e-09</td><td>9.628609e-09</td><td>1.040597e-08</td><td>1.108411e-08</td><td>1.172643e-08</td><td>1.247649e-08</td><td>1.045711e-08</td><td>1.192481e-08</td><td>1.314254e-08</td><td>1.420814e-08</td><td>1.52207e-08</td><td>1.640041e-08</td><td>1.396252e-08</td><td>1.573478e-08</td><td>1.730913e-08</td><td>1.880692e-08</td><td>2.055068e-08</td><td>1.814497e-08</td><td>2.037292e-08</td><td>2.251316e-08</td><td>2.501062e-08</td><td>2.338947e-08</td><td>2.640011e-08</td><td>2.993971e-08</td><td>3.055493e-08</td><td>3.564259e-08</td><td>4.343365e-08</td></tr>\n",
       "<tr><td>85.81110088</td><td>4.831054e-10</td><td>8.294122e-10</td><td>9.663951e-10</td><td>1.043039e-09</td><td>1.094533e-09</td><td>1.133229e-09</td><td>1.164401e-09</td><td>1.192074e-09</td><td>1.218022e-09</td><td>1.248073e-09</td><td>1.804248e-09</td><td>2.369144e-09</td><td>2.714796e-09</td><td>2.949921e-09</td><td>3.126257e-09</td><td>3.26956e-09</td><td>3.394377e-09</td><td>3.512095e-09</td><td>3.650423e-09</td><td>3.433372e-09</td><td>4.192015e-09</td><td>4.731223e-09</td><td>5.138133e-09</td><td>5.468144e-09</td><td>5.755545e-09</td><td>6.029124e-09</td><td>6.348086e-09</td><td>5.403903e-09</td><td>6.342964e-09</td><td>7.071797e-09</td><td>7.665667e-09</td><td>8.184228e-09</td><td>8.675518e-09</td><td>9.248403e-09</td><td>7.719428e-09</td><td>8.853751e-09</td><td>9.796843e-09</td><td>1.062094e-08</td><td>1.140604e-08</td><td>1.231869e-08</td><td>1.043979e-08</td><td>1.182216e-08</td><td>1.304962e-08</td><td>1.421807e-08</td><td>1.557943e-08</td><td>1.371115e-08</td><td>1.546045e-08</td><td>1.714511e-08</td><td>1.910799e-08</td><td>1.784767e-08</td><td>2.023858e-08</td><td>2.305091e-08</td><td>2.357466e-08</td><td>2.76795e-08</td><td>3.410187e-08</td></tr>\n",
       "<tr><td>111.82680688</td><td>3.527675e-10</td><td>5.982074e-10</td><td>6.947205e-10</td><td>7.486552e-10</td><td>7.849196e-10</td><td>8.120908e-10</td><td>8.341873e-10</td><td>8.534348e-10</td><td>8.71841e-10</td><td>8.930028e-10</td><td>1.282704e-09</td><td>1.676178e-09</td><td>1.916943e-09</td><td>2.080944e-09</td><td>2.203557e-09</td><td>2.303386e-09</td><td>2.39061e-09</td><td>2.473123e-09</td><td>2.569181e-09</td><td>2.416393e-09</td><td>2.948769e-09</td><td>3.330323e-09</td><td>3.617923e-09</td><td>3.851606e-09</td><td>4.055314e-09</td><td>4.247562e-09</td><td>4.47408e-09</td><td>3.815427e-09</td><td>4.498819e-09</td><td>5.030353e-09</td><td>5.464361e-09</td><td>5.843569e-09</td><td>6.201411e-09</td><td>6.621369e-09</td><td>5.521217e-09</td><td>6.370666e-09</td><td>7.078412e-09</td><td>7.697554e-09</td><td>8.285389e-09</td><td>8.971244e-09</td><td>7.577463e-09</td><td>8.632761e-09</td><td>9.571258e-09</td><td>1.046217e-08</td><td>1.150304e-08</td><td>1.0089e-08</td><td>1.144054e-08</td><td>1.273928e-08</td><td>1.425594e-08</td><td>1.329498e-08</td><td>1.515254e-08</td><td>1.734171e-08</td><td>1.776259e-08</td><td>2.098194e-08</td><td>2.607421e-08</td></tr>\n",
       "<tr><td>145.72980195</td><td>2.607418e-10</td><td>4.370262e-10</td><td>5.054872e-10</td><td>5.436987e-10</td><td>5.694008e-10</td><td>5.887064e-10</td><td>6.04319e-10</td><td>6.180516e-10</td><td>6.310563e-10</td><td>6.459569e-10</td><td>9.19802e-10</td><td>1.194954e-09</td><td>1.363282e-09</td><td>1.477773e-09</td><td>1.563692e-09</td><td>1.63325e-09</td><td>1.694285e-09</td><td>1.751922e-09</td><td>1.81893e-09</td><td>1.711687e-09</td><td>2.080986e-09</td><td>2.34475e-09</td><td>2.544502e-09</td><td>2.706741e-09</td><td>2.848137e-09</td><td>2.981819e-09</td><td>3.138523e-09</td><td>2.679434e-09</td><td>3.15184e-09</td><td>3.521359e-09</td><td>3.8234e-09</td><td>4.086778e-09</td><td>4.336001e-09</td><td>4.627271e-09</td><td>3.865829e-09</td><td>4.466402e-09</td><td>4.968505e-09</td><td>5.407084e-09</td><td>5.825109e-09</td><td>6.31113e-09</td><td>5.334951e-09</td><td>6.102158e-09</td><td>6.785183e-09</td><td>7.43586e-09</td><td>8.193774e-09</td><td>7.181288e-09</td><td>8.188323e-09</td><td>9.159168e-09</td><td>1.029129e-08</td><td>9.593642e-09</td><td>1.100586e-08</td><td>1.26703e-08</td><td>1.301294e-08</td><td>1.549172e-08</td><td>1.945148e-08</td></tr>\n",
       "<tr><td>189.91130811</td><td>1.941791e-10</td><td>3.232512e-10</td><td>3.725961e-10</td><td>4.001873e-10</td><td>4.187575e-10</td><td>4.326353e-10</td><td>4.439263e-10</td><td>4.538094e-10</td><td>4.631627e-10</td><td>4.739155e-10</td><td>6.691611e-10</td><td>8.621348e-10</td><td>9.799837e-10</td><td>1.06012e-09</td><td>1.120163e-09</td><td>1.168883e-09</td><td>1.211416e-09</td><td>1.251709e-09</td><td>1.298999e-09</td><td>1.221364e-09</td><td>1.478108e-09</td><td>1.66197e-09</td><td>1.800729e-09</td><td>1.913486e-09</td><td>2.012005e-09</td><td>2.104964e-09</td><td>2.21381e-09</td><td>1.894802e-09</td><td>2.222936e-09</td><td>2.479084e-09</td><td>2.688147e-09</td><td>2.870859e-09</td><td>3.04298e-09</td><td>3.245222e-09</td><td>2.716092e-09</td><td>3.128928e-09</td><td>3.474009e-09</td><td>3.77659e-09</td><td>4.063201e-09</td><td>4.398003e-09</td><td>3.724738e-09</td><td>4.252847e-09</td><td>4.724962e-09</td><td>5.173266e-09</td><td>5.697223e-09</td><td>5.003046e-09</td><td>5.709339e-09</td><td>6.390178e-09</td><td>7.186034e-09</td><td>6.712844e-09</td><td>7.728579e-09</td><td>8.928381e-09</td><td>9.207135e-09</td><td>1.104392e-08</td><td>1.405164e-08</td></tr>\n",
       "<tr><td>247.48750405</td><td>1.446037e-10</td><td>2.406735e-10</td><td>2.770104e-10</td><td>2.972742e-10</td><td>3.109018e-10</td><td>3.211101e-10</td><td>3.294217e-10</td><td>3.366736e-10</td><td>3.435705e-10</td><td>3.515013e-10</td><td>4.935984e-10</td><td>6.316191e-10</td><td>7.151894e-10</td><td>7.723181e-10</td><td>8.150114e-10</td><td>8.496895e-10</td><td>8.800464e-10</td><td>9.086775e-10</td><td>9.422246e-10</td><td>8.843824e-10</td><td>1.063531e-09</td><td>1.191395e-09</td><td>1.288028e-09</td><td>1.366413e-09</td><td>1.43482e-09</td><td>1.499574e-09</td><td>1.575536e-09</td><td>1.351093e-09</td><td>1.577491e-09</td><td>1.754362e-09</td><td>1.898722e-09</td><td>2.02484e-09</td><td>2.143874e-09</td><td>2.283419e-09</td><td>1.917554e-09</td><td>2.20355e-09</td><td>2.442499e-09</td><td>2.6514e-09</td><td>2.850258e-09</td><td>3.08182e-09</td><td>2.61631e-09</td><td>2.980973e-09</td><td>3.306372e-09</td><td>3.615736e-09</td><td>3.977219e-09</td><td>3.496005e-09</td><td>3.979087e-09</td><td>4.44556e-09</td><td>4.990369e-09</td><td>4.663143e-09</td><td>5.357859e-09</td><td>6.179612e-09</td><td>6.376955e-09</td><td>7.654164e-09</td><td>9.807572e-09</td></tr>\n",
       "<tr><td>322.51931319</td><td>1.067478e-10</td><td>1.789559e-10</td><td>2.060905e-10</td><td>2.212002e-10</td><td>2.313885e-10</td><td>2.389881e-10</td><td>2.451785e-10</td><td>2.506139e-10</td><td>2.557614e-10</td><td>2.616577e-10</td><td>3.670268e-10</td><td>4.678111e-10</td><td>5.286157e-10</td><td>5.700508e-10</td><td>6.010221e-10</td><td>6.26162e-10</td><td>6.479954e-10</td><td>6.689041e-10</td><td>6.931721e-10</td><td>6.493145e-10</td><td>7.76625e-10</td><td>8.673153e-10</td><td>9.357633e-10</td><td>9.913039e-10</td><td>1.039771e-09</td><td>1.085597e-09</td><td>1.13937e-09</td><td>9.784353e-10</td><td>1.136486e-09</td><td>1.259606e-09</td><td>1.360109e-09</td><td>1.447936e-09</td><td>1.530702e-09</td><td>1.627813e-09</td><td>1.371315e-09</td><td>1.567541e-09</td><td>1.731599e-09</td><td>1.87518e-09</td><td>2.011632e-09</td><td>2.170388e-09</td><td>1.849003e-09</td><td>2.098187e-09</td><td>2.320771e-09</td><td>2.532645e-09</td><td>2.779364e-09</td><td>2.45084e-09</td><td>2.782746e-09</td><td>3.102706e-09</td><td>3.476825e-09</td><td>3.253843e-09</td><td>3.731238e-09</td><td>4.294896e-09</td><td>4.427761e-09</td><td>5.297297e-09</td><td>6.758206e-09</td></tr>\n",
       "<tr><td>420.29882591</td><td>7.746514e-11</td><td>1.316742e-10</td><td>1.520846e-10</td><td>1.63432e-10</td><td>1.71054e-10</td><td>1.767639e-10</td><td>1.814404e-10</td><td>1.854898e-10</td><td>1.893732e-10</td><td>1.938265e-10</td><td>2.729037e-10</td><td>3.478343e-10</td><td>3.928984e-10</td><td>4.234422e-10</td><td>4.463842e-10</td><td>4.649939e-10</td><td>4.811685e-10</td><td>4.965942e-10</td><td>5.145359e-10</td><td>4.810315e-10</td><td>5.734631e-10</td><td>6.390511e-10</td><td>6.884845e-10</td><td>7.287362e-10</td><td>7.637636e-10</td><td>7.968723e-10</td><td>8.357261e-10</td><td>7.179728e-10</td><td>8.302025e-10</td><td>9.174376e-10</td><td>9.887351e-10</td><td>1.05088e-09</td><td>1.10974e-09</td><td>1.178355e-09</td><td>9.9498e-10</td><td>1.132087e-09</td><td>1.246578e-09</td><td>1.346848e-09</td><td>1.441858e-09</td><td>1.552725e-09</td><td>1.327007e-09</td><td>1.499073e-09</td><td>1.652257e-09</td><td>1.797859e-09</td><td>1.968044e-09</td><td>1.73987e-09</td><td>1.965474e-09</td><td>2.183092e-09</td><td>2.437337e-09</td><td>2.283212e-09</td><td>2.605595e-09</td><td>2.986575e-09</td><td>3.077127e-09</td><td>3.668062e-09</td><td>4.665487e-09</td></tr>\n",
       "<tr><td>547.72255751</td><td>5.489958e-11</td><td>9.510493e-11</td><td>1.103544e-10</td><td>1.188536e-10</td><td>1.245507e-10</td><td>1.288236e-10</td><td>1.323219e-10</td><td>1.353586e-10</td><td>1.382218e-10</td><td>1.415433e-10</td><td>2.009841e-10</td><td>2.572158e-10</td><td>2.909179e-10</td><td>3.138215e-10</td><td>3.309895e-10</td><td>3.449157e-10</td><td>3.570393e-10</td><td>3.685791e-10</td><td>3.819851e-10</td><td>3.566051e-10</td><td>4.248836e-10</td><td>4.732636e-10</td><td>5.097903e-10</td><td>5.39418e-10</td><td>5.652238e-10</td><td>5.896165e-10</td><td>6.182412e-10</td><td>5.305546e-10</td><td>6.120342e-10</td><td>6.753135e-10</td><td>7.267341e-10</td><td>7.718018e-10</td><td>8.143315e-10</td><td>8.641522e-10</td><td>7.302002e-10</td><td>8.280098e-10</td><td>9.093104e-10</td><td>9.805678e-10</td><td>1.048257e-09</td><td>1.127132e-09</td><td>9.651879e-10</td><td>1.08549e-09</td><td>1.192825e-09</td><td>1.294732e-09</td><td>1.413624e-09</td><td>1.252193e-09</td><td>1.408105e-09</td><td>1.558216e-09</td><td>1.733772e-09</td><td>1.625509e-09</td><td>1.845509e-09</td><td>2.10541e-09</td><td>2.164017e-09</td><td>2.561266e-09</td><td>3.224853e-09</td></tr>\n",
       "<tr><td>713.77786828</td><td>3.780383e-11</td><td>6.699242e-11</td><td>7.82102e-11</td><td>8.447747e-11</td><td>8.866955e-11</td><td>9.182858e-11</td><td>9.438815e-11</td><td>9.662076e-11</td><td>9.874386e-11</td><td>1.012067e-10</td><td>1.454257e-10</td><td>1.875303e-10</td><td>2.127566e-10</td><td>2.29898e-10</td><td>2.427486e-10</td><td>2.531457e-10</td><td>2.622316e-10</td><td>2.70875e-10</td><td>2.809236e-10</td><td>2.620118e-10</td><td>3.130712e-10</td><td>3.491152e-10</td><td>3.763509e-10</td><td>3.984198e-10</td><td>4.176115e-10</td><td>4.358124e-10</td><td>4.571448e-10</td><td>3.915441e-10</td><td>4.516706e-10</td><td>4.983199e-10</td><td>5.362656e-10</td><td>5.693622e-10</td><td>6.007096e-10</td><td>6.373613e-10</td><td>5.381057e-10</td><td>6.092819e-10</td><td>6.683631e-10</td><td>7.200006e-10</td><td>7.691161e-10</td><td>8.263393e-10</td><td>7.079458e-10</td><td>7.940653e-10</td><td>8.705902e-10</td><td>9.434514e-10</td><td>1.028357e-09</td><td>9.119115e-10</td><td>1.0215e-09</td><td>1.127027e-09</td><td>1.250295e-09</td><td>1.17248e-09</td><td>1.324616e-09</td><td>1.504141e-09</td><td>1.541755e-09</td><td>1.811763e-09</td><td>2.256968e-09</td></tr>\n",
       "<tr><td>930.1768537</td><td>2.520736e-11</td><td>4.579771e-11</td><td>5.385992e-11</td><td>5.836446e-11</td><td>6.137888e-11</td><td>6.363893e-11</td><td>6.548057e-11</td><td>6.709398e-11</td><td>6.861796e-11</td><td>7.038068e-11</td><td>1.026186e-10</td><td>1.337598e-10</td><td>1.524544e-10</td><td>1.651464e-10</td><td>1.746512e-10</td><td>1.823448e-10</td><td>1.890568e-10</td><td>1.954495e-10</td><td>2.02906e-10</td><td>1.892509e-10</td><td>2.273652e-10</td><td>2.542653e-10</td><td>2.74492e-10</td><td>2.909313e-10</td><td>3.052924e-10</td><td>3.188545e-10</td><td>3.347527e-10</td><td>2.858861e-10</td><td>3.306639e-10</td><td>3.652914e-10</td><td>3.934531e-10</td><td>4.180778e-10</td><td>4.413828e-10</td><td>4.686516e-10</td><td>3.946584e-10</td><td>4.471586e-10</td><td>4.907662e-10</td><td>5.287139e-10</td><td>5.648235e-10</td><td>6.070802e-10</td><td>5.193808e-10</td><td>5.822261e-10</td><td>6.378369e-10</td><td>6.90739e-10</td><td>7.526651e-10</td><td>6.6722e-10</td><td>7.458046e-10</td><td>8.21447e-10</td><td>9.098929e-10</td><td>8.528186e-10</td><td>9.601094e-10</td><td>1.086717e-09</td><td>1.110895e-09</td><td>1.29782e-09</td><td>1.599081e-09</td></tr>\n",
       "<tr><td>1212.18241363</td><td>1.625012e-11</td><td>3.028436e-11</td><td>3.58913e-11</td><td>3.902935e-11</td><td>4.113102e-11</td><td>4.271065e-11</td><td>4.399179e-11</td><td>4.511716e-11</td><td>4.61797e-11</td><td>4.740793e-11</td><td>7.0248e-11</td><td>9.273953e-11</td><td>1.062998e-10</td><td>1.155042e-10</td><td>1.224074e-10</td><td>1.279951e-10</td><td>1.328713e-10</td><td>1.375091e-10</td><td>1.428995e-10</td><td>1.334186e-10</td><td>1.615013e-10</td><td>1.813153e-10</td><td>1.962522e-10</td><td>2.083942e-10</td><td>2.189712e-10</td><td>2.289847e-10</td><td>2.407026e-10</td><td>2.049162e-10</td><td>2.381126e-10</td><td>2.637587e-10</td><td>2.846678e-10</td><td>3.029098e-10</td><td>3.201935e-10</td><td>3.403663e-10</td><td>2.856368e-10</td><td>3.244798e-10</td><td>3.567057e-10</td><td>3.848653e-10</td><td>4.116931e-10</td><td>4.428156e-10</td><td>3.777818e-10</td><td>4.240408e-10</td><td>4.650232e-10</td><td>5.03957e-10</td><td>5.494328e-10</td><td>4.862203e-10</td><td>5.436341e-10</td><td>5.987098e-10</td><td>6.629981e-10</td><td>6.208707e-10</td><td>6.978492e-10</td><td>7.88763e-10</td><td>8.046683e-10</td><td>9.364243e-10</td><td>1.143947e-09</td></tr>\n",
       "<tr><td>1579.68476432</td><td>1.013354e-11</td><td>1.933905e-11</td><td>2.310357e-11</td><td>2.521199e-11</td><td>2.66231e-11</td><td>2.768699e-11</td><td>2.854917e-11</td><td>2.930766e-11</td><td>3.00188e-11</td><td>3.084789e-11</td><td>4.645417e-11</td><td>6.219829e-11</td><td>7.174466e-11</td><td>7.822416e-11</td><td>8.308686e-11</td><td>8.702459e-11</td><td>9.045521e-11</td><td>9.372105e-11</td><td>9.752609e-11</td><td>9.124426e-11</td><td>1.114581e-10</td><td>1.257601e-10</td><td>1.365505e-10</td><td>1.453117e-10</td><td>1.529571e-10</td><td>1.601844e-10</td><td>1.686398e-10</td><td>1.430867e-10</td><td>1.673255e-10</td><td>1.861113e-10</td><td>2.013984e-10</td><td>2.147676e-10</td><td>2.273754e-10</td><td>2.421426e-10</td><td>2.022673e-10</td><td>2.308709e-10</td><td>2.545642e-10</td><td>2.753071e-10</td><td>2.949736e-10</td><td>3.179233e-10</td><td>2.70182e-10</td><td>3.041963e-10</td><td>3.343825e-10</td><td>3.630173e-10</td><td>3.964579e-10</td><td>3.498902e-10</td><td>3.919687e-10</td><td>4.323438e-10</td><td>4.794682e-10</td><td>4.482919e-10</td><td>5.043529e-10</td><td>5.703175e-10</td><td>5.812044e-10</td><td>6.754942e-10</td><td>8.209622e-10</td></tr>\n",
       "<tr><td>2058.60432107</td><td>6.135883e-12</td><td>1.195133e-11</td><td>1.438016e-11</td><td>1.574187e-11</td><td>1.66563e-11</td><td>1.734473e-11</td><td>1.790041e-11</td><td>1.838827e-11</td><td>1.884584e-11</td><td>1.938664e-11</td><td>2.9636e-11</td><td>4.024441e-11</td><td>4.671784e-11</td><td>5.112669e-11</td><td>5.442775e-11</td><td>5.710953e-11</td><td>5.943509e-11</td><td>6.165176e-11</td><td>6.423519e-11</td><td>6.023937e-11</td><td>7.436012e-11</td><td>8.43861e-11</td><td>9.194139e-11</td><td>9.808577e-11</td><td>1.034385e-10</td><td>1.085088e-10</td><td>1.144527e-10</td><td>9.677176e-11</td><td>1.140675e-10</td><td>1.274859e-10</td><td>1.384029e-10</td><td>1.479418e-10</td><td>1.569586e-10</td><td>1.675118e-10</td><td>1.392373e-10</td><td>1.599035e-10</td><td>1.770287e-10</td><td>1.920068e-10</td><td>2.062291e-10</td><td>2.228119e-10</td><td>1.884825e-10</td><td>2.132309e-10</td><td>2.351781e-10</td><td>2.560195e-10</td><td>2.803557e-10</td><td>2.465781e-10</td><td>2.772596e-10</td><td>3.067085e-10</td><td>3.410508e-10</td><td>3.183219e-10</td><td>3.591301e-10</td><td>4.07095e-10</td><td>4.147801e-10</td><td>4.828127e-10</td><td>5.862232e-10</td></tr>\n",
       "<tr><td>2682.71989859</td><td>3.62723e-12</td><td>7.179182e-12</td><td>8.691987e-12</td><td>9.538334e-12</td><td>1.010878e-11</td><td>1.053751e-11</td><td>1.088362e-11</td><td>1.118736e-11</td><td>1.147396e-11</td><td>1.180814e-11</td><td>1.828294e-11</td><td>2.514292e-11</td><td>2.936316e-11</td><td>3.224151e-11</td><td>3.439452e-11</td><td>3.614285e-11</td><td>3.767836e-11</td><td>3.912007e-11</td><td>4.079714e-11</td><td>3.838517e-11</td><td>4.788669e-11</td><td>5.465492e-11</td><td>5.976744e-11</td><td>6.390633e-11</td><td>6.752703e-11</td><td>7.094831e-11</td><td>7.495927e-11</td><td>6.322243e-11</td><td>7.517372e-11</td><td>8.445103e-11</td><td>9.200437e-11</td><td>9.86184e-11</td><td>1.048522e-10</td><td>1.1214e-10</td><td>9.279125e-11</td><td>1.073011e-10</td><td>1.19351e-10</td><td>1.299228e-10</td><td>1.39933e-10</td><td>1.516297e-10</td><td>1.27602e-10</td><td>1.45221e-10</td><td>1.608867e-10</td><td>1.757338e-10</td><td>1.930979e-10</td><td>1.691627e-10</td><td>1.912055e-10</td><td>2.123412e-10</td><td>2.37043e-10</td><td>2.208244e-10</td><td>2.502361e-10</td><td>2.848564e-10</td><td>2.903918e-10</td><td>3.394023e-10</td><td>4.133253e-10</td></tr>\n",
       "<tr><td>3496.05117438</td><td>2.105295e-12</td><td>4.219375e-12</td><td>5.131678e-12</td><td>5.644926e-12</td><td>5.989012e-12</td><td>6.248558e-12</td><td>6.457868e-12</td><td>6.64066e-12</td><td>6.814343e-12</td><td>7.01701e-12</td><td>1.0967e-11</td><td>1.524208e-11</td><td>1.789114e-11</td><td>1.969916e-11</td><td>2.105071e-11</td><td>2.214932e-11</td><td>2.311415e-11</td><td>2.401976e-11</td><td>2.507459e-11</td><td>2.366182e-11</td><td>2.979866e-11</td><td>3.419648e-11</td><td>3.75184e-11</td><td>4.020969e-11</td><td>4.256685e-11</td><td>4.478968e-11</td><td>4.739947e-11</td><td>3.990262e-11</td><td>4.78561e-11</td><td>5.405019e-11</td><td>5.907597e-11</td><td>6.351512e-11</td><td>6.766696e-11</td><td>7.254621e-11</td><td>5.976261e-11</td><td>6.965598e-11</td><td>7.785101e-11</td><td>8.507491e-11</td><td>9.189673e-11</td><td>9.986044e-11</td><td>8.365403e-11</td><td>9.58312e-11</td><td>1.067058e-10</td><td>1.169964e-10</td><td>1.290079e-10</td><td>1.125716e-10</td><td>1.280589e-10</td><td>1.429071e-10</td><td>1.602161e-10</td><td>1.490137e-10</td><td>1.698643e-10</td><td>1.943586e-10</td><td>1.984712e-10</td><td>2.333636e-10</td><td>2.860013e-10</td></tr>\n",
       "<tr><td>4555.96345347</td><td>1.203899e-12</td><td>2.436606e-12</td><td>2.974232e-12</td><td>3.276484e-12</td><td>3.479928e-12</td><td>3.632742e-12</td><td>3.756398e-12</td><td>3.864857e-12</td><td>3.966878e-12</td><td>4.086037e-12</td><td>6.436178e-12</td><td>9.020046e-12</td><td>1.063246e-11</td><td>1.173342e-11</td><td>1.25574e-11</td><td>1.322944e-11</td><td>1.381409e-11</td><td>1.436499e-11</td><td>1.501265e-11</td><td>1.419943e-11</td><td>1.803075e-11</td><td>2.078858e-11</td><td>2.287565e-11</td><td>2.456882e-11</td><td>2.604423e-11</td><td>2.744558e-11</td><td>2.908019e-11</td><td>2.445062e-11</td><td>2.955795e-11</td><td>3.354917e-11</td><td>3.680349e-11</td><td>3.964772e-11</td><td>4.233038e-11</td><td>4.547597e-11</td><td>3.733504e-11</td><td>4.383694e-11</td><td>4.925682e-11</td><td>5.40065e-11</td><td>5.850701e-11</td><td>6.376476e-11</td><td>5.318243e-11</td><td>6.138068e-11</td><td>6.866068e-11</td><td>7.558578e-11</td><td>8.366661e-11</td><td>7.276846e-11</td><td>8.330863e-11</td><td>9.343878e-11</td><td>1.052828e-10</td><td>9.776873e-11</td><td>1.121905e-10</td><td>1.291626e-10</td><td>1.321589e-10</td><td>1.566046e-10</td><td>1.936816e-10</td></tr>\n",
       "</table></div>"
      ],
      "text/plain": [
       "<Table length=21>\n",
       "     ell          C00          C01      ...     C89          C99     \n",
       "   float64      float64      float64    ...   float64      float64   \n",
       "------------- ------------ ------------ ... ------------ ------------\n",
       "  22.83133051 2.438902e-09 4.094163e-09 ... 6.742362e-08 7.713209e-08\n",
       "  29.75319931 1.806662e-09 3.084923e-09 ...  6.12535e-08  7.11624e-08\n",
       "  38.77359967 1.309545e-09  2.26994e-09 ... 5.333487e-08 6.299614e-08\n",
       "  50.52875208  9.36112e-10 1.632607e-09 ... 4.447508e-08 5.340579e-08\n",
       "  65.84776262 6.694145e-10   1.1611e-09 ... 3.564259e-08 4.343365e-08\n",
       "  85.81110088 4.831054e-10 8.294122e-10 ...  2.76795e-08 3.410187e-08\n",
       " 111.82680688 3.527675e-10 5.982074e-10 ... 2.098194e-08 2.607421e-08\n",
       " 145.72980195 2.607418e-10 4.370262e-10 ... 1.549172e-08 1.945148e-08\n",
       " 189.91130811 1.941791e-10 3.232512e-10 ... 1.104392e-08 1.405164e-08\n",
       " 247.48750405 1.446037e-10 2.406735e-10 ... 7.654164e-09 9.807572e-09\n",
       " 322.51931319 1.067478e-10 1.789559e-10 ... 5.297297e-09 6.758206e-09\n",
       " 420.29882591 7.746514e-11 1.316742e-10 ... 3.668062e-09 4.665487e-09\n",
       " 547.72255751 5.489958e-11 9.510493e-11 ... 2.561266e-09 3.224853e-09\n",
       " 713.77786828 3.780383e-11 6.699242e-11 ... 1.811763e-09 2.256968e-09\n",
       "  930.1768537 2.520736e-11 4.579771e-11 ...  1.29782e-09 1.599081e-09\n",
       "1212.18241363 1.625012e-11 3.028436e-11 ... 9.364243e-10 1.143947e-09\n",
       "1579.68476432 1.013354e-11 1.933905e-11 ... 6.754942e-10 8.209622e-10\n",
       "2058.60432107 6.135883e-12 1.195133e-11 ... 4.828127e-10 5.862232e-10\n",
       "2682.71989859  3.62723e-12 7.179182e-12 ... 3.394023e-10 4.133253e-10\n",
       "3496.05117438 2.105295e-12 4.219375e-12 ... 2.333636e-10 2.860013e-10\n",
       "4555.96345347 1.203899e-12 2.436606e-12 ... 1.566046e-10 1.936816e-10"
      ]
     },
     "execution_count": 5,
     "metadata": {},
     "output_type": "execute_result"
    }
   ],
   "source": [
    "TbCij_mb2"
   ]
  },
  {
   "cell_type": "code",
   "execution_count": null,
   "metadata": {},
   "outputs": [],
   "source": []
  },
  {
   "cell_type": "code",
   "execution_count": null,
   "metadata": {
    "collapsed": true
   },
   "outputs": [],
   "source": []
  },
  {
   "cell_type": "code",
   "execution_count": 6,
   "metadata": {},
   "outputs": [],
   "source": [
    "blue1    =\"#0300DB\" #\"#001CAA\"\n",
    "blue9   = \"#214F94\"\n",
    "\n",
    "green1   =\"forestgreen\"#\"g\" #\"#297F0F\"\n",
    "red1     =\"#E00000\" #\"#C10019\"\n",
    "red9    = \"#CC0204\"#\"#DB0200\"\n",
    "\n",
    "orange1  =\"darkorange\" #\"#FA7921\"\n",
    "orange9 = \"#FFA903\"  \n",
    "\n",
    "purple1  =\"purple\" #\"#683885\"\n",
    "brown1   =\"sienna\"\n",
    "gray1    =\"grey\" #\"#626262\"\n",
    "gray9   = \"#858278\"\n",
    "\n",
    "olive1   =\"olive\"\n",
    "\n",
    "black = \"#000000\""
   ]
  },
  {
   "cell_type": "code",
   "execution_count": null,
   "metadata": {
    "collapsed": true
   },
   "outputs": [],
   "source": []
  },
  {
   "cell_type": "code",
   "execution_count": null,
   "metadata": {
    "scrolled": false
   },
   "outputs": [],
   "source": [
    "fig = plt.figure(figsize=(7.3,6.6))\n",
    "plt.rc('text', usetex=True)      \n",
    "plt.rc('font',size=20)\n",
    "\n",
    "ax1=fig.add_axes([0.175 ,0.10,0.81,0.83])\n",
    "\n",
    "\n",
    "l = TbCij_dmo[\"ell\"]\n",
    "\n",
    "colname_Cij=\"C00\"\n",
    "title=r'$\\mathrm{C^{00}}$'\n",
    "\n",
    "\n",
    "ax1.plot(l,TbCij_eagle[colname_Cij]       /TbCij_dmo[colname_Cij]-1,c=blue9           ,lw=3,label=r'$\\mathrm{Eagle}$'    ,ls='-')\n",
    "ax1.plot(l,TbCij_mb2[colname_Cij]         /TbCij_dmo[colname_Cij]-1,c=red9            ,lw=3,label=r'$\\mathrm{MB2}$'      ,ls='--')\n",
    "ax1.plot(l,TbCij_HzAGN[colname_Cij]       /TbCij_dmo[colname_Cij]-1,c=black           ,lw=3,label=r'$\\mathrm{Horizon\\mbox{-}AGN}$',ls='-')\n",
    "ax1.plot(l,TbCij_illustris[colname_Cij]   /TbCij_dmo[colname_Cij]-1,c=orange9          ,lw=3,label=r'$\\mathrm{Illustris}$',ls='-')\n",
    "ax1.plot(l,TbCij_AGN[colname_Cij]         /TbCij_dmo[colname_Cij]-1,c=purple1         ,label=r'$\\mathrm{AGN}$' ,ls=\"-.\",lw=2)\n",
    "ax1.plot(l,TbCij_DBLIMFV1618[colname_Cij] /TbCij_dmo[colname_Cij]-1,c='violet'       ,label=r'$\\mathrm{DBLIMFV1618}$')\n",
    "ax1.plot(l,TbCij_NOSN[colname_Cij]        /TbCij_dmo[colname_Cij]-1,c='cornflowerblue',label=r'$\\mathrm{NOSN}$' ,ls=(0, (3, 1, 1, 1, 1, 1)))\n",
    "ax1.plot(l,TbCij_NOSN_NOZCOOL[colname_Cij]/TbCij_dmo[colname_Cij]-1,c='darkorange'    ,label=r'$\\mathrm{NOSN\\_NOZCOOL}$',ls=(0, (5, 1)))\n",
    "ax1.plot(l,TbCij_NOZCOOL[colname_Cij]     /TbCij_dmo[colname_Cij]-1,c='yellowgreen'   ,label=r'$\\mathrm{NOZCOOL}$',ls= '--')\n",
    "ax1.plot(l,TbCij_REF[colname_Cij]         /TbCij_dmo[colname_Cij]-1,c='teal'          ,label=r'$\\mathrm{REF}$')\n",
    "ax1.plot(l,TbCij_WDENS[colname_Cij]       /TbCij_dmo[colname_Cij]-1,c='olive'         ,label=r'$\\mathrm{WDENS}$',ls=(0, (3, 10, 1, 10)),lw=2)\n",
    "ax1.plot(l,TbCij_WML1V848[colname_Cij]    /TbCij_dmo[colname_Cij]-1,c='darkseagreen'  ,label=r'$\\mathrm{WML1V848}$',ls=\":\")\n",
    "ax1.plot(l,TbCij_WML4[colname_Cij]        /TbCij_dmo[colname_Cij]-1,c=brown1          ,label=r'$\\mathrm{WML4}$',ls=(0, (3, 5, 1, 5, 1, 5)))\n",
    "\n",
    "#ax1.axhline(y=0, color='gray', linestyle='-',label=r'$\\mathrm{DMO}$',lw=2)\n",
    "ax1.axhline(y=0, color='gray', linestyle='-',lw=2)\n",
    "\n",
    "\n",
    "\n",
    "ax1.axvline(x=2000, color='silver', linestyle='-',zorder=-10)\n",
    "\n",
    "ax1.set_xscale('log')\n",
    "ax1.set_xlabel(r'$\\mathrm{\\ell}$')\n",
    "ax1.set_ylabel(r'$\\mathrm{C^{ij}_{hydro}(\\ell)/C^{ij}_{DMO}(\\ell)-1}$')\n",
    "ax1.set_title(title)\n",
    "\n",
    "ax1.legend(loc=\"best\",prop={'size': 15.},ncol=2,frameon=False)\n",
    "#ax1.set_xlim(20,2100)\n",
    "ax1.set_xlim(20,5000)\n",
    "\n",
    "ax1.set_ylim(-0.32,0.43)\n",
    "\n",
    "#fig.savefig(\"C00Ratio.png\", dpi=300)"
   ]
  },
  {
   "cell_type": "code",
   "execution_count": null,
   "metadata": {
    "collapsed": true
   },
   "outputs": [],
   "source": []
  },
  {
   "cell_type": "code",
   "execution_count": null,
   "metadata": {
    "collapsed": true
   },
   "outputs": [],
   "source": []
  }
 ],
 "metadata": {
  "kernelspec": {
   "display_name": "Python 3",
   "language": "python",
   "name": "python3"
  },
  "language_info": {
   "codemirror_mode": {
    "name": "ipython",
    "version": 3
   },
   "file_extension": ".py",
   "mimetype": "text/x-python",
   "name": "python",
   "nbconvert_exporter": "python",
   "pygments_lexer": "ipython3",
   "version": "3.7.4"
  }
 },
 "nbformat": 4,
 "nbformat_minor": 2
}
