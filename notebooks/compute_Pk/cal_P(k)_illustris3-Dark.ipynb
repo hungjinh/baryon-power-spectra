{
 "cells": [
  {
   "cell_type": "code",
   "execution_count": 1,
   "metadata": {},
   "outputs": [
    {
     "name": "stdout",
     "output_type": "stream",
     "text": [
      "Populating the interactive namespace from numpy and matplotlib\n"
     ]
    }
   ],
   "source": [
    "import illustris_python as il\n",
    "import matplotlib.pyplot as plt\n",
    "import numpy as np\n",
    "\n",
    "import scipy.optimize as opt\n",
    "\n",
    "\n",
    "import sys\n",
    "sys.path.insert(0,'/home/hungjinh/python_lib/CAMB/pycamb')\n",
    "import camb\n",
    "from camb import model, initialpower\n",
    "\n",
    "%pylab inline\n",
    "%run cal_Pk_tool.py"
   ]
  },
  {
   "cell_type": "code",
   "execution_count": 2,
   "metadata": {
    "collapsed": true
   },
   "outputs": [],
   "source": [
    "basePath = '/home/hungjinh/Research/baryon_proj/catalog/illustris_cat/Illustris-3-Dark/'\n",
    "snap=135\n",
    "boxsize=75.  # comoving Mpc/h\n",
    "resol = 128\n",
    "Vbox=boxsize**3"
   ]
  },
  {
   "cell_type": "code",
   "execution_count": 3,
   "metadata": {
    "collapsed": true
   },
   "outputs": [],
   "source": [
    "%run cal_Pk_tool.py\n",
    "den=build_den_cube_DMO(snap=snap,basePath=basePath,boxsize=boxsize,resol=resol)"
   ]
  },
  {
   "cell_type": "code",
   "execution_count": 4,
   "metadata": {
    "collapsed": true
   },
   "outputs": [],
   "source": [
    "Amp_FFTden=cal_Amp_FFTden(den=den,resol=resol)"
   ]
  },
  {
   "cell_type": "code",
   "execution_count": 5,
   "metadata": {},
   "outputs": [
    {
     "name": "stdout",
     "output_type": "stream",
     "text": [
      "kmax: 9.28665274488\n",
      "kmin: 0.0\n"
     ]
    }
   ],
   "source": [
    "k=cal_freq_FFT(boxsize,resol)"
   ]
  },
  {
   "cell_type": "code",
   "execution_count": 6,
   "metadata": {},
   "outputs": [],
   "source": [
    "kbins=np.logspace(-1,1,23)\n",
    "avgk,avgPk=cal_Pk(kbins=kbins,Amp_FFTden=Amp_FFTden,k=k,Vbox=Vbox)"
   ]
  },
  {
   "cell_type": "code",
   "execution_count": 7,
   "metadata": {
    "collapsed": true
   },
   "outputs": [],
   "source": [
    "kh_camb,pk_camb=gen_camb_Pk_illustris_cosmology(redshifts=[0])"
   ]
  },
  {
   "cell_type": "code",
   "execution_count": 8,
   "metadata": {},
   "outputs": [
    {
     "data": {
      "text/plain": [
       "(0.03, 35)"
      ]
     },
     "execution_count": 8,
     "metadata": {},
     "output_type": "execute_result"
    },
    {
     "data": {
      "image/png": "[encoded data removed]",
      "text/plain": [
       "<matplotlib.figure.Figure at 0x2af241d4cbd0>"
      ]
     },
     "metadata": {},
     "output_type": "display_data"
    }
   ],
   "source": [
    "plt.figure(figsize=(6,6))\n",
    "plt.rc('text', usetex=True)      \n",
    "plt.rc('font',size=18) \n",
    "\n",
    "plt.plot(avgk,avgPk,'.',c='orange')\n",
    "plt.plot(kh_camb,pk_camb[0],c='green')\n",
    "plt.xscale('log')\n",
    "plt.yscale('log')\n",
    "plt.xlabel(r'$\\mathrm{k\\ [Mpc^{-1}h]}$')\n",
    "plt.ylabel(r'$\\mathrm{P(k)}$')\n",
    "\n",
    "plt.xlim(0.03,35)"
   ]
  },
  {
   "cell_type": "code",
   "execution_count": 9,
   "metadata": {},
   "outputs": [
    {
     "data": {
      "text/plain": [
       "array([ 0.11847688,  0.14510395,  0.18337304,  0.20520797,  0.26010971,\n",
       "        0.32244599,  0.39568276,  0.48399876,  0.59596783,  0.7381514 ,\n",
       "        0.91171343,  1.12360787,  1.38756848,  1.71066786,  2.10658639,\n",
       "        2.59672475,  3.20213546,  3.94860637,  4.86732175,  5.91680382,\n",
       "        7.12591493,  8.39700823])"
      ]
     },
     "execution_count": 9,
     "metadata": {},
     "output_type": "execute_result"
    }
   ],
   "source": [
    "avgk"
   ]
  },
  {
   "cell_type": "code",
   "execution_count": 10,
   "metadata": {},
   "outputs": [
    {
     "data": {
      "text/plain": [
       "array([  3.63377877e+03,   7.27067978e+03,   1.76571074e+03,\n",
       "         2.06120058e+03,   1.29953749e+03,   1.06450689e+03,\n",
       "         9.75391965e+02,   6.61546396e+02,   5.45543037e+02,\n",
       "         4.52356183e+02,   3.60755314e+02,   2.79309302e+02,\n",
       "         2.31456394e+02,   1.81552647e+02,   1.36594715e+02,\n",
       "         9.53692529e+01,   6.18206736e+01,   3.84164248e+01,\n",
       "         2.39473184e+01,   1.51767009e+01,   9.36192092e+00,\n",
       "         6.38104978e+00])"
      ]
     },
     "execution_count": 10,
     "metadata": {},
     "output_type": "execute_result"
    }
   ],
   "source": [
    "avgPk"
   ]
  },
  {
   "cell_type": "code",
   "execution_count": null,
   "metadata": {
    "collapsed": true
   },
   "outputs": [],
   "source": []
  },
  {
   "cell_type": "code",
   "execution_count": null,
   "metadata": {
    "collapsed": true
   },
   "outputs": [],
   "source": []
  }
 ],
 "metadata": {
  "kernelspec": {
   "display_name": "Python 2",
   "language": "python",
   "name": "python2"
  },
  "language_info": {
   "codemirror_mode": {
    "name": "ipython",
    "version": 2
   },
   "file_extension": ".py",
   "mimetype": "text/x-python",
   "name": "python",
   "nbconvert_exporter": "python",
   "pygments_lexer": "ipython2",
   "version": "2.7.17"
  }
 },
 "nbformat": 4,
 "nbformat_minor": 1
}
