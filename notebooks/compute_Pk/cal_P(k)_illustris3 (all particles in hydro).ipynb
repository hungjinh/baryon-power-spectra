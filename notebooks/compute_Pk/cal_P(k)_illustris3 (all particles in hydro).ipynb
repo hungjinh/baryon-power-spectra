{
 "cells": [
  {
   "cell_type": "markdown",
   "metadata": {},
   "source": [
    "### $m_{DM} = 4.0 \\times 10^8 M_{\\odot}$  ;  $N_{DM}=455^3$"
   ]
  },
  {
   "cell_type": "code",
   "execution_count": 3,
   "metadata": {},
   "outputs": [
    {
     "name": "stdout",
     "output_type": "stream",
     "text": [
      "Populating the interactive namespace from numpy and matplotlib\n"
     ]
    },
    {
     "ename": "SystemExit",
     "evalue": "camblib.so does not exist.\nPlease remove any old installation and install again.",
     "output_type": "error",
     "traceback": [
      "An exception has occurred, use %tb to see the full traceback.\n",
      "\u001b[0;31mSystemExit\u001b[0m\u001b[0;31m:\u001b[0m camblib.so does not exist.\nPlease remove any old installation and install again.\n"
     ]
    }
   ],
   "source": [
    "import illustris_python as il\n",
    "import matplotlib.pyplot as plt\n",
    "from astropy.table import Table\n",
    "import numpy as np\n",
    "\n",
    "#import sys\n",
    "#sys.path.insert(0,'/home/hungjinh/python_lib/CAMB/pycamb')\n",
    "#import camb\n",
    "#from camb import model, initialpower\n",
    "\n",
    "from scipy import interpolate\n",
    "\n",
    "%pylab inline"
   ]
  },
  {
   "cell_type": "code",
   "execution_count": 8,
   "metadata": {
    "collapsed": true
   },
   "outputs": [],
   "source": [
    "%run ./cal_Pk_tool_ill.py"
   ]
  },
  {
   "cell_type": "code",
   "execution_count": 4,
   "metadata": {},
   "outputs": [],
   "source": [
    "basePath = '/home/hungjinh/Research/baryon_proj/catalog/illustris_cat/Illustris-3/'\n",
    "snap=135\n",
    "boxsize=75.  # comoving Mpc/h\n",
    "resol = 128\n",
    "Vbox=boxsize**3"
   ]
  },
  {
   "cell_type": "code",
   "execution_count": null,
   "metadata": {
    "collapsed": true
   },
   "outputs": [],
   "source": []
  },
  {
   "cell_type": "markdown",
   "metadata": {},
   "source": [
    "### DM particle"
   ]
  },
  {
   "cell_type": "code",
   "execution_count": 9,
   "metadata": {
    "collapsed": true
   },
   "outputs": [],
   "source": [
    "dm_hist=build_mass_cube_hydro_DM(snap=snap,basePath=basePath,Mptl=4.01e8,boxsize=boxsize,resol=resol)"
   ]
  },
  {
   "cell_type": "code",
   "execution_count": 10,
   "metadata": {},
   "outputs": [
    {
     "data": {
      "text/plain": [
       "3.7772746375e+16"
      ]
     },
     "execution_count": 10,
     "metadata": {},
     "output_type": "execute_result"
    }
   ],
   "source": [
    "dm_hist.sum()"
   ]
  },
  {
   "cell_type": "markdown",
   "metadata": {},
   "source": [
    "### gas particle"
   ]
  },
  {
   "cell_type": "code",
   "execution_count": 11,
   "metadata": {
    "collapsed": true
   },
   "outputs": [],
   "source": [
    "gas_hist=build_mass_cube_hydro_baryon(snap=snap,basePath=basePath,ptl_type='gas',boxsize=boxsize,resol=resol)"
   ]
  },
  {
   "cell_type": "code",
   "execution_count": 5,
   "metadata": {},
   "outputs": [
    {
     "data": {
      "text/plain": [
       "5146800624827749.0"
      ]
     },
     "execution_count": 5,
     "metadata": {},
     "output_type": "execute_result"
    }
   ],
   "source": [
    "gas_hist.sum()"
   ]
  },
  {
   "cell_type": "code",
   "execution_count": null,
   "metadata": {
    "collapsed": true
   },
   "outputs": [],
   "source": []
  },
  {
   "cell_type": "markdown",
   "metadata": {},
   "source": [
    "### star particle\n"
   ]
  },
  {
   "cell_type": "code",
   "execution_count": 12,
   "metadata": {
    "collapsed": true
   },
   "outputs": [],
   "source": [
    "star_hist=build_mass_cube_hydro_baryon(snap=snap,basePath=basePath,ptl_type='stars',boxsize=boxsize,resol=resol)"
   ]
  },
  {
   "cell_type": "code",
   "execution_count": 8,
   "metadata": {},
   "outputs": [
    {
     "data": {
      "text/plain": [
       "186858612673537.12"
      ]
     },
     "execution_count": 8,
     "metadata": {},
     "output_type": "execute_result"
    }
   ],
   "source": [
    "star_hist.sum()"
   ]
  },
  {
   "cell_type": "markdown",
   "metadata": {},
   "source": [
    "### BH particle"
   ]
  },
  {
   "cell_type": "code",
   "execution_count": 13,
   "metadata": {
    "collapsed": true
   },
   "outputs": [],
   "source": [
    "BH_hist=build_mass_cube_hydro_baryon(snap=snap,basePath=basePath,ptl_type='bhs',boxsize=boxsize,resol=resol)"
   ]
  },
  {
   "cell_type": "code",
   "execution_count": 9,
   "metadata": {},
   "outputs": [
    {
     "data": {
      "text/plain": [
       "5707148840122.0"
      ]
     },
     "execution_count": 9,
     "metadata": {},
     "output_type": "execute_result"
    }
   ],
   "source": [
    "BH_hist.sum()"
   ]
  },
  {
   "cell_type": "code",
   "execution_count": null,
   "metadata": {
    "collapsed": true
   },
   "outputs": [],
   "source": []
  },
  {
   "cell_type": "markdown",
   "metadata": {},
   "source": [
    "## Overdensity Cube"
   ]
  },
  {
   "cell_type": "code",
   "execution_count": 14,
   "metadata": {
    "collapsed": true
   },
   "outputs": [],
   "source": [
    "Mtot_hist=dm_hist+gas_hist+star_hist+BH_hist"
   ]
  },
  {
   "cell_type": "code",
   "execution_count": 15,
   "metadata": {
    "collapsed": true
   },
   "outputs": [],
   "source": [
    "# calculate average Mass in one pixel\n",
    "avgM_per_pix = sum(Mtot_hist)/resol**3"
   ]
  },
  {
   "cell_type": "code",
   "execution_count": 16,
   "metadata": {
    "collapsed": true
   },
   "outputs": [],
   "source": [
    "# overdensity histogram [unitless]\n",
    "den = (Mtot_hist-avgM_per_pix)/avgM_per_pix"
   ]
  },
  {
   "cell_type": "code",
   "execution_count": null,
   "metadata": {
    "collapsed": true
   },
   "outputs": [],
   "source": []
  },
  {
   "cell_type": "markdown",
   "metadata": {},
   "source": [
    "## FFT start "
   ]
  },
  {
   "cell_type": "code",
   "execution_count": 17,
   "metadata": {
    "collapsed": true
   },
   "outputs": [],
   "source": [
    "Amp_FFTden=cal_Amp_FFTden(den=den,resol=resol)"
   ]
  },
  {
   "cell_type": "code",
   "execution_count": 32,
   "metadata": {},
   "outputs": [
    {
     "name": "stdout",
     "output_type": "stream",
     "text": [
      "k_max: 9.286652744879195\n",
      "kx_max: 5.277875658030853\n",
      "kx_min: -5.361651462126581\n"
     ]
    }
   ],
   "source": [
    "k=cal_freq_FFT(boxsize=boxsize,resol=resol)[0]"
   ]
  },
  {
   "cell_type": "code",
   "execution_count": 38,
   "metadata": {},
   "outputs": [
    {
     "data": {
      "text/plain": [
       "(128, 128, 128)"
      ]
     },
     "execution_count": 38,
     "metadata": {},
     "output_type": "execute_result"
    }
   ],
   "source": [
    "k.shape"
   ]
  },
  {
   "cell_type": "code",
   "execution_count": 33,
   "metadata": {},
   "outputs": [
    {
     "data": {
      "text/plain": [
       "array([ 0.1       ,  0.12328467,  0.15199111,  0.18738174,  0.23101297,\n",
       "        0.28480359,  0.35111917,  0.43287613,  0.53366992,  0.65793322,\n",
       "        0.81113083,  1.        ,  1.23284674,  1.51991108,  1.87381742,\n",
       "        2.3101297 ,  2.84803587,  3.51119173,  4.32876128,  5.33669923,\n",
       "        6.57933225,  8.11130831, 10.        ])"
      ]
     },
     "execution_count": 33,
     "metadata": {},
     "output_type": "execute_result"
    }
   ],
   "source": [
    "kbins=np.logspace(-1,1,23)\n",
    "kbins"
   ]
  },
  {
   "cell_type": "code",
   "execution_count": 37,
   "metadata": {
    "collapsed": true
   },
   "outputs": [],
   "source": [
    "avgk,avgPk,Nk=cal_Pk(kbins=kbins,Amp_FFTden=Amp_FFTden,k=k,Vbox=Vbox)"
   ]
  },
  {
   "cell_type": "code",
   "execution_count": 41,
   "metadata": {},
   "outputs": [
    {
     "data": {
      "text/plain": [
       "array([0.11847688, 0.14510395, 0.18337304, 0.20520797, 0.26010971,\n",
       "       0.32244599, 0.39568276, 0.48399876, 0.59596783, 0.7381514 ,\n",
       "       0.91171343, 1.12360787, 1.38756848, 1.71066786, 2.10658639,\n",
       "       2.59672475, 3.20213546, 3.94860637, 4.86732175, 5.91680382,\n",
       "       7.12591493, 8.39700823])"
      ]
     },
     "execution_count": 41,
     "metadata": {},
     "output_type": "execute_result"
    }
   ],
   "source": [
    "avgk"
   ]
  },
  {
   "cell_type": "code",
   "execution_count": 40,
   "metadata": {},
   "outputs": [
    {
     "data": {
      "text/plain": [
       "array([3.63439156e+03, 7.26729640e+03, 1.76258608e+03, 2.05601389e+03,\n",
       "       1.29517259e+03, 1.05774929e+03, 9.64847823e+02, 6.51006963e+02,\n",
       "       5.31890241e+02, 4.35268773e+02, 3.40531055e+02, 2.57717202e+02,\n",
       "       2.08214719e+02, 1.58388465e+02, 1.15412634e+02, 7.81515268e+01,\n",
       "       4.90914389e+01, 2.97663777e+01, 1.83753604e+01, 1.17869562e+01,\n",
       "       7.48266578e+00, 5.26778572e+00])"
      ]
     },
     "execution_count": 40,
     "metadata": {},
     "output_type": "execute_result"
    }
   ],
   "source": [
    "avgPk"
   ]
  },
  {
   "cell_type": "markdown",
   "metadata": {},
   "source": [
    "## CAMB"
   ]
  },
  {
   "cell_type": "code",
   "execution_count": 23,
   "metadata": {
    "collapsed": true
   },
   "outputs": [],
   "source": [
    "kh_camb,pk_camb=gen_camb_Pk_illustris_cosmology(redshifts=[0])"
   ]
  },
  {
   "cell_type": "code",
   "execution_count": null,
   "metadata": {
    "collapsed": true
   },
   "outputs": [],
   "source": []
  },
  {
   "cell_type": "markdown",
   "metadata": {},
   "source": [
    "## Plot"
   ]
  },
  {
   "cell_type": "code",
   "execution_count": 39,
   "metadata": {},
   "outputs": [
    {
     "data": {
      "text/plain": [
       "(0.03, 35)"
      ]
     },
     "execution_count": 39,
     "metadata": {},
     "output_type": "execute_result"
    },
    {
     "data": {
      "image/png": "[encoded data removed]",
      "text/plain": [
       "<Figure size 432x432 with 1 Axes>"
      ]
     },
     "metadata": {},
     "output_type": "display_data"
    }
   ],
   "source": [
    "plt.figure(figsize=(6,6))\n",
    "plt.rc('text', usetex=True)      \n",
    "plt.rc('font',size=18) \n",
    "\n",
    "plt.plot(avgk,avgPk,'.',c='blue')\n",
    "#plt.plot(kh_camb,pk_camb[0],c='green')\n",
    "plt.xscale('log')\n",
    "plt.yscale('log')\n",
    "plt.xlabel(r'$\\mathrm{k\\ [Mpc^{-1}h]}$')\n",
    "plt.ylabel(r'$\\mathrm{P(k)}$')\n",
    "\n",
    "plt.xlim(0.03,35)"
   ]
  },
  {
   "cell_type": "code",
   "execution_count": null,
   "metadata": {
    "collapsed": true
   },
   "outputs": [],
   "source": []
  },
  {
   "cell_type": "code",
   "execution_count": null,
   "metadata": {
    "collapsed": true
   },
   "outputs": [],
   "source": []
  },
  {
   "cell_type": "code",
   "execution_count": null,
   "metadata": {
    "collapsed": true
   },
   "outputs": [],
   "source": []
  },
  {
   "cell_type": "code",
   "execution_count": null,
   "metadata": {
    "collapsed": true
   },
   "outputs": [],
   "source": []
  },
  {
   "cell_type": "code",
   "execution_count": null,
   "metadata": {
    "collapsed": true
   },
   "outputs": [],
   "source": []
  },
  {
   "cell_type": "code",
   "execution_count": 23,
   "metadata": {
    "collapsed": true
   },
   "outputs": [],
   "source": [
    "k_DM=array([ 0.11847688,  0.14510395,  0.18337304,  0.20520797,  0.26010971,\n",
    "        0.32244599,  0.39568276,  0.48399876,  0.59596783,  0.7381514 ,\n",
    "        0.91171343,  1.12360787,  1.38756848,  1.71066786,  2.10658639,\n",
    "        2.59672475,  3.20213546,  3.94860637,  4.86732175,  5.91680382,\n",
    "        7.12591493,  8.39700823])"
   ]
  },
  {
   "cell_type": "code",
   "execution_count": 24,
   "metadata": {
    "collapsed": true
   },
   "outputs": [],
   "source": [
    "Pk_DM=array([  3.63834449e+03,   7.27960119e+03,   1.76722272e+03,\n",
    "         2.06218723e+03,   1.30153042e+03,   1.06472058e+03,\n",
    "         9.75576201e+02,   6.61566594e+02,   5.44519314e+02,\n",
    "         4.50629275e+02,   3.58511733e+02,   2.76042449e+02,\n",
    "         2.27766561e+02,   1.77010836e+02,   1.31349193e+02,\n",
    "         9.04705522e+01,   5.76160020e+01,   3.53032024e+01,\n",
    "         2.19071612e+01,   1.40342127e+01,   8.86082152e+00,\n",
    "         6.17547834e+00])"
   ]
  },
  {
   "cell_type": "code",
   "execution_count": null,
   "metadata": {
    "collapsed": true
   },
   "outputs": [],
   "source": []
  },
  {
   "cell_type": "code",
   "execution_count": 25,
   "metadata": {
    "collapsed": true
   },
   "outputs": [],
   "source": [
    "k_DMO=array([ 0.11847688,  0.14510395,  0.18337304,  0.20520797,  0.26010971,\n",
    "        0.32244599,  0.39568276,  0.48399876,  0.59596783,  0.7381514 ,\n",
    "        0.91171343,  1.12360787,  1.38756848,  1.71066786,  2.10658639,\n",
    "        2.59672475,  3.20213546,  3.94860637,  4.86732175,  5.91680382,\n",
    "        7.12591493,  8.39700823])"
   ]
  },
  {
   "cell_type": "code",
   "execution_count": 26,
   "metadata": {
    "collapsed": true
   },
   "outputs": [],
   "source": [
    "Pk_DMO=array([  3.63377877e+03,   7.27067978e+03,   1.76571074e+03,\n",
    "         2.06120058e+03,   1.29953749e+03,   1.06450689e+03,\n",
    "         9.75391965e+02,   6.61546396e+02,   5.45543037e+02,\n",
    "         4.52356183e+02,   3.60755314e+02,   2.79309302e+02,\n",
    "         2.31456394e+02,   1.81552647e+02,   1.36594715e+02,\n",
    "         9.53692529e+01,   6.18206736e+01,   3.84164248e+01,\n",
    "         2.39473184e+01,   1.51767009e+01,   9.36192092e+00,\n",
    "         6.38104978e+00])"
   ]
  },
  {
   "cell_type": "code",
   "execution_count": null,
   "metadata": {
    "collapsed": true
   },
   "outputs": [],
   "source": []
  },
  {
   "cell_type": "code",
   "execution_count": 29,
   "metadata": {},
   "outputs": [
    {
     "data": {
      "text/plain": [
       "(0.06, 15)"
      ]
     },
     "execution_count": 29,
     "metadata": {},
     "output_type": "execute_result"
    },
    {
     "data": {
      "image/png": "[encoded data removed]",
      "text/plain": [
       "<matplotlib.figure.Figure at 0x2ae806b46210>"
      ]
     },
     "metadata": {},
     "output_type": "display_data"
    }
   ],
   "source": [
    "plt.figure(figsize=(6,6))\n",
    "plt.rc('text', usetex=True)      \n",
    "plt.rc('font',size=18) \n",
    "\n",
    "plt.plot(avgk,avgPk,'.',c='blue')\n",
    "plt.plot(kh_camb,pk_camb[0],c='green')\n",
    "plt.plot(k_DM,Pk_DM,'.',c='gray')\n",
    "plt.plot(k_DMO,Pk_DMO,'.',c='orange')\n",
    "plt.xscale('log')\n",
    "plt.yscale('log')\n",
    "plt.xlabel(r'$\\mathrm{k\\ [Mpc^{-1}h]}$')\n",
    "plt.ylabel(r'$\\mathrm{P(k)}$')\n",
    "\n",
    "plt.xlim(0.06,15)"
   ]
  },
  {
   "cell_type": "code",
   "execution_count": null,
   "metadata": {
    "collapsed": true
   },
   "outputs": [],
   "source": []
  },
  {
   "cell_type": "markdown",
   "metadata": {},
   "source": [
    "## cp Pks "
   ]
  },
  {
   "cell_type": "code",
   "execution_count": 31,
   "metadata": {
    "collapsed": true
   },
   "outputs": [],
   "source": [
    "f_Pk_DMO = interpolate.interp1d(k_DMO, Pk_DMO)\n",
    "f_Pk_hydro_DM = interpolate.interp1d(k_DM, Pk_DM)\n",
    "f_Pk_hydro    = interpolate.interp1d(avgk, avgPk)\n",
    "\n",
    "iPk_DMO =f_Pk_DMO(kh_camb[57:237])\n",
    "iPk_DM  =f_Pk_hydro_DM(kh_camb[57:237])\n",
    "iPk_tot =f_Pk_hydro(kh_camb[57:237])"
   ]
  },
  {
   "cell_type": "code",
   "execution_count": 101,
   "metadata": {},
   "outputs": [
    {
     "data": {
      "text/plain": [
       "(0.06, 15)"
      ]
     },
     "execution_count": 101,
     "metadata": {},
     "output_type": "execute_result"
    },
    {
     "data": {
      "image/png": "[encoded data removed]",
      "text/plain": [
       "<matplotlib.figure.Figure at 0x2ae80c07e250>"
      ]
     },
     "metadata": {},
     "output_type": "display_data"
    }
   ],
   "source": [
    "plt.figure(figsize=(6,6))\n",
    "plt.rc('text', usetex=True)      \n",
    "plt.rc('font',size=18) \n",
    "\n",
    "xvalue=kh_camb[57:237]\n",
    "ipk_camb=pk_camb[0][57:237]\n",
    "\n",
    "plt.plot(xvalue,ipk_camb,c='green',label=r'$\\mathrm{camb}$')\n",
    "plt.plot(xvalue,iPk_tot,c='blue',label=r'$\\mathrm{hydro\\_tot}$')\n",
    "plt.plot(xvalue,iPk_DM,c='gray',label=r'$\\mathrm{hydro\\_DM}$')\n",
    "plt.plot(xvalue,iPk_DMO,c='orange',label=r'$\\mathrm{DMO\\_DM}$')\n",
    "plt.xscale('log')\n",
    "plt.yscale('log')\n",
    "plt.xlabel(r'$\\mathrm{k\\ [Mpc^{-1}h]}$')\n",
    "plt.ylabel(r'$\\mathrm{P(k)}$')\n",
    "\n",
    "plt.legend(loc='lower left',frameon=False,prop={'size':20})\n",
    "\n",
    "plt.ylim(5,1e4)\n",
    "plt.xlim(0.06,15)"
   ]
  },
  {
   "cell_type": "code",
   "execution_count": 93,
   "metadata": {},
   "outputs": [
    {
     "data": {
      "text/plain": [
       "(0.06, 15)"
      ]
     },
     "execution_count": 93,
     "metadata": {},
     "output_type": "execute_result"
    },
    {
     "data": {
      "image/png": "[encoded data removed]",
      "text/plain": [
       "<matplotlib.figure.Figure at 0x2ae80c43ef90>"
      ]
     },
     "metadata": {},
     "output_type": "display_data"
    }
   ],
   "source": [
    "plt.figure(figsize=(6,6))\n",
    "plt.rc('text', usetex=True)      \n",
    "plt.rc('font',size=18) \n",
    "\n",
    "xvalue=kh_camb[57:237]\n",
    "ipk_camb=pk_camb[0][57:237]\n",
    "\n",
    "\n",
    "plt.plot(xvalue,(iPk_tot-ipk_camb)/ipk_camb,c='blue',label=r'$\\mathrm{hydro\\_tot}$')\n",
    "plt.plot(xvalue,(iPk_DM-ipk_camb)/ipk_camb ,c='gray',label=r'$\\mathrm{hydro\\_DM}$')\n",
    "plt.plot(xvalue,(iPk_DMO-ipk_camb)/ipk_camb,c='orange',label=r'$\\mathrm{DMO\\_DM}$')\n",
    "plt.xscale('log')\n",
    "#plt.yscale('log')\n",
    "plt.xlabel(r'$\\mathrm{k\\ [Mpc^{-1}h]}$')\n",
    "plt.ylabel(r'$\\mathrm{(P(k)-P(k)_{camb})/P(k)_{camb}}$')\n",
    "\n",
    "plt.legend(loc='lower left',frameon=False,prop={'size':20})\n",
    "\n",
    "plt.ylim(-0.65,0.1)\n",
    "plt.xlim(0.06,15)"
   ]
  },
  {
   "cell_type": "code",
   "execution_count": null,
   "metadata": {
    "collapsed": true
   },
   "outputs": [],
   "source": []
  },
  {
   "cell_type": "code",
   "execution_count": 98,
   "metadata": {},
   "outputs": [
    {
     "data": {
      "text/plain": [
       "(0.06, 15)"
      ]
     },
     "execution_count": 98,
     "metadata": {},
     "output_type": "execute_result"
    },
    {
     "data": {
      "image/png": "[encoded data removed]",
      "text/plain": [
       "<matplotlib.figure.Figure at 0x2ae80c4468d0>"
      ]
     },
     "metadata": {},
     "output_type": "display_data"
    }
   ],
   "source": [
    "plt.figure(figsize=(6,6))\n",
    "plt.rc('text', usetex=True)      \n",
    "plt.rc('font',size=18) \n",
    "\n",
    "xvalue=kh_camb[57:237]\n",
    "\n",
    "plt.axhline(y=0., color='gray', linestyle='--')\n",
    "plt.plot(xvalue,(iPk_tot-iPk_DMO)/iPk_DMO,c='blue',label=r'$\\mathrm{hydro\\_tot}$')\n",
    "\n",
    "plt.xscale('log')\n",
    "#plt.yscale('log')\n",
    "plt.xlabel(r'$\\mathrm{k\\ [Mpc^{-1}h]}$')\n",
    "plt.ylabel(r'$\\mathrm{(P(k)-P(k)_{DMO})/P(k)_{DMO}}$')\n",
    "\n",
    "plt.legend(loc='lower left',frameon=False,prop={'size':20})\n",
    "\n",
    "plt.ylim(-0.3,0.1)\n",
    "plt.xlim(0.06,15)"
   ]
  },
  {
   "cell_type": "code",
   "execution_count": null,
   "metadata": {
    "collapsed": true
   },
   "outputs": [],
   "source": []
  },
  {
   "cell_type": "code",
   "execution_count": null,
   "metadata": {
    "collapsed": true
   },
   "outputs": [],
   "source": []
  },
  {
   "cell_type": "code",
   "execution_count": null,
   "metadata": {
    "collapsed": true
   },
   "outputs": [],
   "source": []
  },
  {
   "cell_type": "code",
   "execution_count": 25,
   "metadata": {
    "collapsed": true
   },
   "outputs": [],
   "source": [
    "Mtot_hist=dm_hist+gas_hist+star_hist+BH_hist"
   ]
  },
  {
   "cell_type": "code",
   "execution_count": 26,
   "metadata": {
    "collapsed": true
   },
   "outputs": [],
   "source": [
    "avgM_per_pix = sum(Mtot_hist)/resol**3"
   ]
  },
  {
   "cell_type": "code",
   "execution_count": 27,
   "metadata": {
    "collapsed": true
   },
   "outputs": [],
   "source": [
    "den = (Mtot_hist-avgM_per_pix)/avgM_per_pix"
   ]
  },
  {
   "cell_type": "code",
   "execution_count": 28,
   "metadata": {},
   "outputs": [
    {
     "data": {
      "text/plain": [
       "3988.7052881670834"
      ]
     },
     "execution_count": 28,
     "metadata": {},
     "output_type": "execute_result"
    }
   ],
   "source": [
    "den.max()"
   ]
  },
  {
   "cell_type": "code",
   "execution_count": 29,
   "metadata": {
    "scrolled": true
   },
   "outputs": [
    {
     "data": {
      "text/plain": [
       "43112112761341368.0"
      ]
     },
     "execution_count": 29,
     "metadata": {},
     "output_type": "execute_result"
    }
   ],
   "source": [
    "Mtot_hist.sum()"
   ]
  },
  {
   "cell_type": "code",
   "execution_count": 30,
   "metadata": {},
   "outputs": [
    {
     "data": {
      "text/plain": [
       "20557457333.250698"
      ]
     },
     "execution_count": 30,
     "metadata": {},
     "output_type": "execute_result"
    }
   ],
   "source": [
    "avgM_per_pix"
   ]
  },
  {
   "cell_type": "code",
   "execution_count": null,
   "metadata": {
    "collapsed": true
   },
   "outputs": [],
   "source": []
  },
  {
   "cell_type": "code",
   "execution_count": 31,
   "metadata": {
    "collapsed": true
   },
   "outputs": [],
   "source": [
    "Amp_FFTden=cal_Amp_FFTden(den=den,resol=resol)"
   ]
  },
  {
   "cell_type": "code",
   "execution_count": 32,
   "metadata": {},
   "outputs": [
    {
     "name": "stdout",
     "output_type": "stream",
     "text": [
      "kmax: 9.28665274488\n",
      "kmin: 0.0\n"
     ]
    }
   ],
   "source": [
    "k=cal_freq_FFT(boxsize=boxsize,resol=resol)"
   ]
  },
  {
   "cell_type": "code",
   "execution_count": 33,
   "metadata": {
    "collapsed": true
   },
   "outputs": [],
   "source": [
    "kbins=np.logspace(-1,1,23)\n",
    "avgk,avgPk=cal_Pk(kbins=kbins,Amp_FFTden=Amp_FFTden,k=k,Vbox=Vbox)"
   ]
  },
  {
   "cell_type": "code",
   "execution_count": 34,
   "metadata": {},
   "outputs": [
    {
     "data": {
      "text/plain": [
       "(0.03, 41)"
      ]
     },
     "execution_count": 34,
     "metadata": {},
     "output_type": "execute_result"
    },
    {
     "data": {
      "image/png": "[encoded data removed]",
      "text/plain": [
       "<matplotlib.figure.Figure at 0x2b71b6e98390>"
      ]
     },
     "metadata": {},
     "output_type": "display_data"
    }
   ],
   "source": [
    "plt.figure(figsize=(6,6))\n",
    "plt.rc('text', usetex=True)      \n",
    "plt.rc('font',size=18) \n",
    "\n",
    "plt.plot(avgk,avgPk,'.',c='blue')\n",
    "plt.plot(kh_camb,pk_camb[0],c='green')\n",
    "plt.xscale('log')\n",
    "plt.yscale('log')\n",
    "plt.xlabel(r'$\\mathrm{k\\ [Mpc^{-1}h]}$')\n",
    "plt.ylabel(r'$\\mathrm{P(k)}$')\n",
    "\n",
    "plt.xlim(0.03,41)"
   ]
  },
  {
   "cell_type": "code",
   "execution_count": null,
   "metadata": {
    "collapsed": true
   },
   "outputs": [],
   "source": []
  },
  {
   "cell_type": "code",
   "execution_count": null,
   "metadata": {
    "collapsed": true
   },
   "outputs": [],
   "source": []
  }
 ],
 "metadata": {
  "kernelspec": {
   "display_name": "Python 2",
   "language": "python",
   "name": "python2"
  },
  "language_info": {
   "codemirror_mode": {
    "name": "ipython",
    "version": 2
   },
   "file_extension": ".py",
   "mimetype": "text/x-python",
   "name": "python",
   "nbconvert_exporter": "python",
   "pygments_lexer": "ipython2",
   "version": "2.7.17"
  }
 },
 "nbformat": 4,
 "nbformat_minor": 2
}
